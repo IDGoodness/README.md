{
  "nbformat": 4,
  "nbformat_minor": 0,
  "metadata": {
    "colab": {
      "name": "DSNDayTwo.ipynb",
      "provenance": [],
      "authorship_tag": "ABX9TyMbax9JLmwbGvZvpwiG/6Ju",
      "include_colab_link": true
    },
    "kernelspec": {
      "name": "python3",
      "display_name": "Python 3"
    },
    "language_info": {
      "name": "python"
    }
  },
  "cells": [
    {
      "cell_type": "markdown",
      "metadata": {
        "id": "view-in-github",
        "colab_type": "text"
      },
      "source": [
        "<a href=\"https://colab.research.google.com/github/IDGoodness/README.md/blob/main/DSNDayTwo.ipynb\" target=\"_parent\"><img src=\"https://colab.research.google.com/assets/colab-badge.svg\" alt=\"Open In Colab\"/></a>"
      ]
    },
    {
      "cell_type": "code",
      "execution_count": null,
      "metadata": {
        "colab": {
          "base_uri": "https://localhost:8080/"
        },
        "id": "8tkj7B164tsx",
        "outputId": "fff60f4a-19cb-49f8-c961-0ea809ca588e"
      },
      "outputs": [
        {
          "output_type": "stream",
          "name": "stdout",
          "text": [
            "Welcome to the cloud!!\n"
          ]
        }
      ],
      "source": [
        "print(\"Welcome to the cloud!!\")"
      ]
    },
    {
      "cell_type": "code",
      "source": [
        "print(\"Welcome to the cloud!!\")"
      ],
      "metadata": {
        "id": "mc8JmRaR4_mo",
        "colab": {
          "base_uri": "https://localhost:8080/"
        },
        "outputId": "f80b2a34-d3e1-47b4-e088-e81b560c02bb"
      },
      "execution_count": 2,
      "outputs": [
        {
          "output_type": "stream",
          "name": "stdout",
          "text": [
            "Welcome to the cloud!!\n"
          ]
        }
      ]
    },
    {
      "cell_type": "code",
      "source": [
        ""
      ],
      "metadata": {
        "id": "yvnQfs145cUx"
      },
      "execution_count": null,
      "outputs": []
    }
  ]
}